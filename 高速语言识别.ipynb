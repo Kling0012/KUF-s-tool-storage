{
  "nbformat": 4,
  "nbformat_minor": 0,
  "metadata": {
    "colab": {
      "provenance": [],
      "authorship_tag": "ABX9TyNIpBbHxcZBiVQJ8xMSDEbg",
      "include_colab_link": true
    },
    "kernelspec": {
      "name": "python3",
      "display_name": "Python 3"
    },
    "language_info": {
      "name": "python"
    },
    "accelerator": "GPU",
    "gpuClass": "standard"
  },
  "cells": [
    {
      "cell_type": "markdown",
      "metadata": {
        "id": "view-in-github",
        "colab_type": "text"
      },
      "source": [
        "<a href=\"https://colab.research.google.com/github/Kling0012/youtubeSCRs/blob/main/%E9%AB%98%E9%80%9F%E8%AF%AD%E8%A8%80%E8%AF%86%E5%88%AB.ipynb\" target=\"_parent\"><img src=\"https://colab.research.google.com/assets/colab-badge.svg\" alt=\"Open In Colab\"/></a>"
      ]
    },
    {
      "cell_type": "code",
      "execution_count": null,
      "metadata": {
        "id": "lnHYafh-09bo"
      },
      "outputs": [],
      "source": [
        "!pip install \"faster-whisper @ https://github.com/nyanta012/faster-whisper/archive/refs/heads/master.tar.gz\"\n",
        "!pip install transformers==4.27.2\n",
        "!pip install gradio"
      ]
    },
    {
      "cell_type": "code",
      "source": [
        "# whisper large-v2をhugging faceから取得して、ctranslate2でC++に変換&パラメータなどの量子化する\n",
        "from faster_whisper import WhisperModel\n",
        "!ct2-transformers-converter --model openai/whisper-large-v2 --output_dir whisper-large-v2-ct2 \\\n",
        "    --copy_files tokenizer.json --quantization float16\n",
        "\n",
        "model_path = \"whisper-large-v2-ct2/\"\n"
      ],
      "metadata": {
        "colab": {
          "base_uri": "https://localhost:8080/"
        },
        "id": "QsVOpmQ4oP3U",
        "outputId": "74860cd7-179e-435e-ab41-e16e9a6df25e"
      },
      "execution_count": 2,
      "outputs": [
        {
          "output_type": "stream",
          "name": "stdout",
          "text": [
            "Downloading (…)lve/main/config.json: 100% 1.97k/1.97k [00:00<00:00, 230kB/s]\n",
            "Downloading pytorch_model.bin: 100% 6.17G/6.17G [01:11<00:00, 86.8MB/s]\n",
            "Downloading (…)neration_config.json: 100% 3.49k/3.49k [00:00<00:00, 575kB/s]\n",
            "Downloading (…)okenizer_config.json: 100% 800/800 [00:00<00:00, 293kB/s]\n",
            "Downloading (…)olve/main/vocab.json: 100% 836k/836k [00:00<00:00, 5.82MB/s]\n",
            "Downloading (…)/main/tokenizer.json: 100% 2.20M/2.20M [00:00<00:00, 12.1MB/s]\n",
            "Downloading (…)olve/main/merges.txt: 100% 494k/494k [00:00<00:00, 4.22MB/s]\n",
            "Downloading (…)main/normalizer.json: 100% 52.7k/52.7k [00:00<00:00, 1.65MB/s]\n",
            "Downloading (…)in/added_tokens.json: 100% 2.08k/2.08k [00:00<00:00, 855kB/s]\n",
            "Downloading (…)cial_tokens_map.json: 100% 2.08k/2.08k [00:00<00:00, 798kB/s]\n"
          ]
        }
      ]
    },
    {
      "cell_type": "code",
      "source": [
        "# Run on GPU with FP16\n",
        "model = WhisperModel(model_path, device=\"cuda\", compute_type=\"float16\")\n"
      ],
      "metadata": {
        "id": "LUM4D-hdoctf"
      },
      "execution_count": 3,
      "outputs": []
    },
    {
      "cell_type": "markdown",
      "source": [
        "**实行完成后在左方侧边栏下载文件**"
      ],
      "metadata": {
        "id": "TDsNAJiMGHj5"
      }
    },
    {
      "cell_type": "code",
      "source": [
        "\n",
        "from google.colab import files\n",
        "import os, requests, uuid, json\n",
        "uploaded = files.upload()\n",
        "results=[]\n",
        "def create_srt_file(file_name, results=None, fast_whisper=True):\n",
        "  results, _ = model.transcribe(file_name,language=\"ja\")\n",
        "  with open(f\"{file_name}.srt\", mode=\"w\") as f:\n",
        "      for index, _dict in enumerate(results):\n",
        "          if fast_whisper:\n",
        "            start_time = _dict[0] # start\n",
        "            end_time = _dict[1] # end\n",
        "            text = _dict[2] # text\n",
        "          else:\n",
        "            start_time = _dict[\"start\"]\n",
        "            end_time = _dict[\"end\"]\n",
        "            text = _dict[\"text\"]\n",
        "          s_h, e_h = int(start_time//(60 * 60)), int(end_time//(60 * 60))\n",
        "          s_m, e_m = int((start_time % (60 * 60))//60), int((end_time % (60 * 60))//60)\n",
        "          s_s, e_s = int(start_time % 60), int(end_time % 60)\n",
        "          f.write(f'{index+1}\\n{s_h:02}:{s_m:02}:{s_s:02},000 --> {e_h:02}:{e_m:02}:{e_s:02},000\\n{text}\\n\\n')\n",
        "\n",
        "video=uploaded\n",
        "create_srt_file(video,results=None,fast_whisper=True)\n",
        "\n"
      ],
      "metadata": {
        "id": "pLmRJMeD1K9g"
      },
      "execution_count": null,
      "outputs": []
    }
  ]
}