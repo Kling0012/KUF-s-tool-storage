{
  "nbformat": 4,
  "nbformat_minor": 0,
  "metadata": {
    "colab": {
      "provenance": [],
      "authorship_tag": "ABX9TyNQyze4CYJnisK/I1cmugYa",
      "include_colab_link": true
    },
    "kernelspec": {
      "name": "python3",
      "display_name": "Python 3"
    },
    "language_info": {
      "name": "python"
    },
    "gpuClass": "standard"
  },
  "cells": [
    {
      "cell_type": "markdown",
      "metadata": {
        "id": "view-in-github",
        "colab_type": "text"
      },
      "source": [
        "<a href=\"https://colab.research.google.com/github/Kling0012/youtubeSCRs/blob/main/YouTubelistSCR.ipynb\" target=\"_parent\"><img src=\"https://colab.research.google.com/assets/colab-badge.svg\" alt=\"Open In Colab\"/></a>"
      ]
    },
    {
      "cell_type": "markdown",
      "source": [
        "获取频道所以播放列表&URL"
      ],
      "metadata": {
        "id": "5Xhf7d7XIsFR"
      }
    },
    {
      "cell_type": "code",
      "source": [
        "import google.auth\n",
        "from googleapiclient.discovery import build\n",
        "from googleapiclient.errors import HttpError\n",
        "import openpyxl\n",
        "\n",
        "# Google APIクライアントを認証します。\n",
        "api_key = \"\"\n",
        "youtube = build(\"youtube\", \"v3\", developerKey=api_key)\n",
        "\n",
        "# チャンネルURLからチャンネルIDを取得します。\n",
        "channel_url = \"https://www.youtube.com/user/BYCMsince2012\"\n",
        "channel_id_request = youtube.channels().list(\n",
        "    part=\"id\",\n",
        "    forUsername=channel_url.split(\"/\")[-1],\n",
        ")\n",
        "channel_id_response = channel_id_request.execute()\n",
        "channel_id = channel_id_response[\"items\"][0][\"id\"]\n",
        "\n",
        "# チャンネルIDから再生リストの一覧を取得します。\n",
        "playlist_request = youtube.playlists().list(\n",
        "    part=\"snippet,contentDetails\",\n",
        "    channelId=channel_id,\n",
        "    maxResults=50,\n",
        ")\n",
        "playlist_response = playlist_request.execute()\n",
        "playlist_infos = playlist_response[\"items\"]\n",
        "for i, playlist_info in enumerate(playlist_infos):\n",
        "    title = playlist_info[\"snippet\"][\"title\"]\n",
        "    count = playlist_info[\"contentDetails\"][\"itemCount\"]\n",
        "    url = f\"https://www.youtube.com/playlist?list={playlist_info['id']}\"\n",
        "    print(f\"{i+1}. {title} ({count} videos) URL: {url}\")\n"
      ],
      "metadata": {
        "id": "62gcQ6mfGs_a"
      },
      "execution_count": null,
      "outputs": []
    },
    {
      "cell_type": "markdown",
      "source": [
        "使用URL获取列表内视频信息"
      ],
      "metadata": {
        "id": "a4fgQfhLI4HS"
      }
    },
    {
      "cell_type": "code",
      "source": [
        "import openpyxl\n",
        "import google.auth\n",
        "from googleapiclient.discovery import build\n",
        "from googleapiclient.errors import HttpError\n",
        "\n",
        "\n",
        "def get_videos(playlist_id, api_key):\n",
        "\n",
        "    youtube = build('youtube', 'v3', developerKey=api_key)\n",
        "    videos = []\n",
        "    next_page_token = None\n",
        "\n",
        "    while True:\n",
        "        res = youtube.playlistItems().list(\n",
        "            part='snippet',\n",
        "            playlistId=playlist_id,\n",
        "            maxResults=50,\n",
        "            pageToken=next_page_token\n",
        "        ).execute()\n",
        "\n",
        "        videos += res['items']\n",
        "        next_page_token = res.get('nextPageToken')\n",
        "\n",
        "        if not next_page_token:\n",
        "            break\n",
        "\n",
        "    return videos\n",
        "\n",
        "\n",
        "def main():\n",
        "    #API\n",
        "    api_key = ''\n",
        "\n",
        "    #列表URL\n",
        "    playlist_url = 'https://www.youtube.com/playlist?list=PLl32tGbAYNEo78QFPFFoqNSnja3jNkyUu'\n",
        "    playlist_id = playlist_url.split('=')[1]\n",
        "\n",
        "    \n",
        "    videos = get_videos(playlist_id, api_key)\n",
        "\n",
        "    \n",
        "    workbook = openpyxl.Workbook()\n",
        "    sheet = workbook.active\n",
        "    sheet.title = 'videos'\n",
        "\n",
        "    \n",
        "    sheet['A1'] = 'title'\n",
        "    sheet['B1'] = 'description'\n",
        "    sheet['C1'] = 'thumbnail_url'\n",
        "    sheet['D1'] = 'video_url'\n",
        "    sheet['E1'] = 'published_at'\n",
        "    sheet['F1'] = 'view_count'\n",
        "    sheet['G1'] = 'duration'\n",
        "\n",
        "    \n",
        "    for i, video in enumerate(videos):\n",
        "        video_id = video[\"snippet\"][\"resourceId\"][\"videoId\"]\n",
        "        video_url = f'https://www.youtube.com/watch?v={video_id}'\n",
        "\n",
        "        video_details_request = youtube.videos().list(\n",
        "            part=\"snippet,statistics,contentDetails\",\n",
        "            id=video_id,\n",
        "        )\n",
        "        video_details_response = video_details_request.execute()\n",
        "        video_details = video_details_response[\"items\"][0][\"snippet\"]\n",
        "\n",
        "        title = video_details[\"title\"]\n",
        "        description = video_details[\"description\"]\n",
        "        thumbnail_url = video_details[\"thumbnails\"][\"default\"][\"url\"]\n",
        "        published_at = video_details[\"publishedAt\"]\n",
        "        view_count = video_details_response[\"items\"][0][\"statistics\"][\"viewCount\"]\n",
        "        duration = video_details_response[\"items\"][0][\"contentDetails\"][\"duration\"]\n",
        "\n",
        "        sheet.cell(row=i+2, column=1, value=title)\n",
        "        sheet.cell(row=i+2, column=2, value=description)\n",
        "        sheet.cell(row=i+2, column=3, value=thumbnail_url)\n",
        "        sheet.cell(row=i+2, column=4, value=video_url)\n",
        "        sheet.cell(row=i+2, column=5, value=published_at)\n",
        "        sheet.cell(row=i+2, column=6, value=view_count)\n",
        "        sheet.cell(row=i+2, column=7, value=duration)\n",
        "\n",
        "    \n",
        "    workbook.save('videos.xlsx')\n",
        "\n",
        "if __name__ == '__main__':\n",
        "    main()\n"
      ],
      "metadata": {
        "id": "D0ZWJYXUH2WA"
      },
      "execution_count": null,
      "outputs": []
    }
  ]
}